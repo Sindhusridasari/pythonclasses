{
  "nbformat": 4,
  "nbformat_minor": 0,
  "metadata": {
    "colab": {
      "name": "Assignment[2].ipynb",
      "provenance": []
    },
    "kernelspec": {
      "name": "python3",
      "display_name": "Python 3"
    }
  },
  "cells": [
    {
      "cell_type": "markdown",
      "metadata": {
        "id": "DVDsdlBIoV6f",
        "colab_type": "text"
      },
      "source": [
        "ASSIGNMENT-2\n"
      ]
    },
    {
      "cell_type": "markdown",
      "metadata": {
        "id": "9JD-YLqHoQkU",
        "colab_type": "text"
      },
      "source": [
        ""
      ]
    },
    {
      "cell_type": "code",
      "metadata": {
        "id": "pJ5eLNi2jwmX",
        "colab_type": "code",
        "colab": {
          "base_uri": "https://localhost:8080/",
          "height": 50
        },
        "outputId": "9d8dcfa9-550a-44c7-a7e6-3d8eaceaf0f9"
      },
      "source": [
        "#1\n",
        "s=int(input(\"enter year :\"))\n",
        "i=['monkey','rooster','dog','pig','rat','ox','tiger','rabbit','dragon','snake','horse','sheep']\n",
        "n=i[s%12]\n",
        "print(n)\n",
        "      "
      ],
      "execution_count": 2,
      "outputs": [
        {
          "output_type": "stream",
          "text": [
            "enter year :2020\n",
            "rat\n"
          ],
          "name": "stdout"
        }
      ]
    },
    {
      "cell_type": "code",
      "metadata": {
        "id": "MOzYlyYEkE33",
        "colab_type": "code",
        "colab": {
          "base_uri": "https://localhost:8080/",
          "height": 67
        },
        "outputId": "6cead632-51cf-4a17-e134-5d3e1e089858"
      },
      "source": [
        "#2\n",
        "s=int(input(\"enter distance\"))\n",
        "w=int(input(\"enter weight\")) \n",
        "if s>=500 :\n",
        "      if w>=100 :\n",
        "        cost = 5*s \n",
        "      elif w>=10 and w<100:\n",
        "        cost=6*s\n",
        "      else:\n",
        "        cost=7*s\n",
        "else: \n",
        "      if w>=100:\n",
        "        cost=8*s\n",
        "      else:\n",
        "        cost=9*s\n",
        "print(cost)"
      ],
      "execution_count": 3,
      "outputs": [
        {
          "output_type": "stream",
          "text": [
            "enter distance500\n",
            "enter weight100\n",
            "2500\n"
          ],
          "name": "stdout"
        }
      ]
    },
    {
      "cell_type": "code",
      "metadata": {
        "id": "nzXJsMSPkQgF",
        "colab_type": "code",
        "colab": {
          "base_uri": "https://localhost:8080/",
          "height": 101
        },
        "outputId": "e7aaae34-d9aa-4d5d-a4da-3c855efe30ee"
      },
      "source": [
        "#3\n",
        "print(\"types of seats avilable:stalls,circle,box,upper class\")\n",
        "s=input(\"enter type of seat\")\n",
        "if s=='stalls':\n",
        "    n=625\n",
        "elif s==\"circle\":\n",
        "        n=750\n",
        "elif s==\"box\":\n",
        "        n=1000\n",
        "elif s==\"upper class\":\n",
        "            n=850\n",
        "print(\"payment modes avalible:card,cash\")\n",
        "p=input(\"enter payment mode\")\n",
        "if p==\"card\":\n",
        "    n=n-n*(10/100)\n",
        "    print(n)\n",
        "else:\n",
        "    n=n-n*(1/20)\n",
        "    print(n)"
      ],
      "execution_count": 4,
      "outputs": [
        {
          "output_type": "stream",
          "text": [
            "types of seats avilable:stalls,circle,box,upper class\n",
            "enter type of seatbox\n",
            "payment modes avalible:card,cash\n",
            "enter payment modecash\n",
            "950.0\n"
          ],
          "name": "stdout"
        }
      ]
    },
    {
      "cell_type": "code",
      "metadata": {
        "id": "azr8ItnEkZNi",
        "colab_type": "code",
        "colab": {
          "base_uri": "https://localhost:8080/",
          "height": 84
        },
        "outputId": "a9682cac-193e-4f75-c193-3d7f4f02c3dc"
      },
      "source": [
        "#4\n",
        "w=int(input(\"enter weight of water in kgs\"))\n",
        "i=int(input(\"enter the initial temp :\"))\n",
        "f=int(input(\"enter the final temp :\"))\n",
        "q=(w)*(f-i)*4184\n",
        "print(q)\n"
      ],
      "execution_count": 5,
      "outputs": [
        {
          "output_type": "stream",
          "text": [
            "enter weight of water in kgs250\n",
            "enter the initial temp :45\n",
            "enter the final temp :60\n",
            "15690000\n"
          ],
          "name": "stdout"
        }
      ]
    },
    {
      "cell_type": "code",
      "metadata": {
        "id": "DP9jkrgDksGO",
        "colab_type": "code",
        "colab": {
          "base_uri": "https://localhost:8080/",
          "height": 50
        },
        "outputId": "6ede72ce-4727-453c-8916-4a27d4866679"
      },
      "source": [
        "#5\n",
        "m=input(\"emter month: \")\n",
        "if (m==\"december\" or m==\"january\" or m==\"february\"):\n",
        "    print(\"winter\")\n",
        "elif (m==\"march\" or m==\"april\" or m==\"may\"):\n",
        "    print(\"spring\")\n",
        "elif (m==\"june\" or m==\"july\" or m==\"august\"):\n",
        "    print(\"summer\")\n",
        "else:\n",
        "    print(\"autumn\")\n"
      ],
      "execution_count": 7,
      "outputs": [
        {
          "output_type": "stream",
          "text": [
            "emter month: november\n",
            "autumn\n"
          ],
          "name": "stdout"
        }
      ]
    },
    {
      "cell_type": "code",
      "metadata": {
        "id": "nhGZzS0slFco",
        "colab_type": "code",
        "colab": {
          "base_uri": "https://localhost:8080/",
          "height": 67
        },
        "outputId": "f14943bf-db1c-47ff-cbc7-5cfb69473037"
      },
      "source": [
        "#6\n",
        "w=int(input(\"enter weight\"))\n",
        "h=int(input(\"enter height\"))\n",
        "b=(w*0.45359237)/(h*0.0254)**2\n",
        "if b<18.5:\n",
        "  print(\"underweight\")\n",
        "elif 25.0<=b<30.0:\n",
        "  print(\"over weight\")\n",
        "else:\n",
        "  print(\"obese\")"
      ],
      "execution_count": 9,
      "outputs": [
        {
          "output_type": "stream",
          "text": [
            "enter weight50\n",
            "enter height6\n",
            "obese\n"
          ],
          "name": "stdout"
        }
      ]
    },
    {
      "cell_type": "code",
      "metadata": {
        "id": "GtKFeM4SlVRs",
        "colab_type": "code",
        "colab": {
          "base_uri": "https://localhost:8080/",
          "height": 50
        },
        "outputId": "107dcd30-3798-467c-992d-6e044d606f27"
      },
      "source": [
        "#7\n",
        "i=int(input(\"Enter the elements between 100 and 1000:\" ))\n",
        "sum=0\n",
        "while i>0:\n",
        "  n=i%10\n",
        "  sum=sum+n\n",
        "  i=int(i/10)\n",
        "print(sum)\n"
      ],
      "execution_count": 12,
      "outputs": [
        {
          "output_type": "stream",
          "text": [
            "Enter the elements between 100 and 1000:233\n",
            "8\n"
          ],
          "name": "stdout"
        }
      ]
    },
    {
      "cell_type": "code",
      "metadata": {
        "id": "475FCbHMl6Ee",
        "colab_type": "code",
        "colab": {
          "base_uri": "https://localhost:8080/",
          "height": 54
        },
        "outputId": "5f4d8cde-f2de-4a90-ecb2-93e6b69d0b85"
      },
      "source": [
        "#8\n",
        "for i in range(1,1001):\n",
        "  sum=0\n",
        "  t=i\n",
        "  while i>0:\n",
        "       h=i%10\n",
        "       sum=sum*10+h\n",
        "       i=i//10\n",
        "  if t==sum:\n",
        "       print(t,end=\" \")"
      ],
      "execution_count": 19,
      "outputs": [
        {
          "output_type": "stream",
          "text": [
            "1 2 3 4 5 6 7 8 9 11 22 33 44 55 66 77 88 99 101 111 121 131 141 151 161 171 181 191 202 212 222 232 242 252 262 272 282 292 303 313 323 333 343 353 363 373 383 393 404 414 424 434 444 454 464 474 484 494 505 515 525 535 545 555 565 575 585 595 606 616 626 636 646 656 666 676 686 696 707 717 727 737 747 757 767 777 787 797 808 818 828 838 848 858 868 878 888 898 909 919 929 939 949 959 969 979 989 999 "
          ],
          "name": "stdout"
        }
      ]
    },
    {
      "cell_type": "code",
      "metadata": {
        "id": "BM5o-vPrmDaA",
        "colab_type": "code",
        "colab": {
          "base_uri": "https://localhost:8080/",
          "height": 34
        },
        "outputId": "58778c55-9244-48c9-915b-aca8226aad33"
      },
      "source": [
        "#9\n",
        "for i in range(1,1001):\n",
        "    sum=0\n",
        "    t=i\n",
        "    while i>0:\n",
        "      n=i%10\n",
        "      sum+=n*n*n\n",
        "      i=i//10\n",
        "    if sum==t:\n",
        "      print(t,end=\" \")"
      ],
      "execution_count": 20,
      "outputs": [
        {
          "output_type": "stream",
          "text": [
            "1 153 370 371 407 "
          ],
          "name": "stdout"
        }
      ]
    },
    {
      "cell_type": "code",
      "metadata": {
        "id": "0DOJNZePk0jR",
        "colab_type": "code",
        "colab": {
          "base_uri": "https://localhost:8080/",
          "height": 1000
        },
        "outputId": "4bcae30c-c310-4692-e881-aa346df1a98c"
      },
      "source": [
        "#10\n",
        "for i in range(1,101):\n",
        "    if i%3==0 and i%5==0:\n",
        "       print(\"fizz buzz\")\n",
        "    elif i % 3==0:\n",
        "       print(\"Fizz\") \n",
        "    elif i % 5==0:\n",
        "       print(\"Buzz\")\n",
        "    else:\n",
        "       print(i)"
      ],
      "execution_count": 21,
      "outputs": [
        {
          "output_type": "stream",
          "text": [
            "1\n",
            "2\n",
            "Fizz\n",
            "4\n",
            "Buzz\n",
            "Fizz\n",
            "7\n",
            "8\n",
            "Fizz\n",
            "Buzz\n",
            "11\n",
            "Fizz\n",
            "13\n",
            "14\n",
            "fizz buzz\n",
            "16\n",
            "17\n",
            "Fizz\n",
            "19\n",
            "Buzz\n",
            "Fizz\n",
            "22\n",
            "23\n",
            "Fizz\n",
            "Buzz\n",
            "26\n",
            "Fizz\n",
            "28\n",
            "29\n",
            "fizz buzz\n",
            "31\n",
            "32\n",
            "Fizz\n",
            "34\n",
            "Buzz\n",
            "Fizz\n",
            "37\n",
            "38\n",
            "Fizz\n",
            "Buzz\n",
            "41\n",
            "Fizz\n",
            "43\n",
            "44\n",
            "fizz buzz\n",
            "46\n",
            "47\n",
            "Fizz\n",
            "49\n",
            "Buzz\n",
            "Fizz\n",
            "52\n",
            "53\n",
            "Fizz\n",
            "Buzz\n",
            "56\n",
            "Fizz\n",
            "58\n",
            "59\n",
            "fizz buzz\n",
            "61\n",
            "62\n",
            "Fizz\n",
            "64\n",
            "Buzz\n",
            "Fizz\n",
            "67\n",
            "68\n",
            "Fizz\n",
            "Buzz\n",
            "71\n",
            "Fizz\n",
            "73\n",
            "74\n",
            "fizz buzz\n",
            "76\n",
            "77\n",
            "Fizz\n",
            "79\n",
            "Buzz\n",
            "Fizz\n",
            "82\n",
            "83\n",
            "Fizz\n",
            "Buzz\n",
            "86\n",
            "Fizz\n",
            "88\n",
            "89\n",
            "fizz buzz\n",
            "91\n",
            "92\n",
            "Fizz\n",
            "94\n",
            "Buzz\n",
            "Fizz\n",
            "97\n",
            "98\n",
            "Fizz\n",
            "Buzz\n"
          ],
          "name": "stdout"
        }
      ]
    },
    {
      "cell_type": "code",
      "metadata": {
        "id": "l7lVYiwLnRTq",
        "colab_type": "code",
        "colab": {
          "base_uri": "https://localhost:8080/",
          "height": 84
        },
        "outputId": "149d68ee-1871-4029-bf23-2fa777703ee8"
      },
      "source": [
        "#11\n",
        "H=int(input(\"Enter the height of well=\"))\n",
        "U=int(input(\"Enter the meters which are climbed=\"))\n",
        "D=int(input(\"Enter slips down=\"))\n",
        "S=((H-U)+(U-D))//(U-D)\n",
        "print(S+1)"
      ],
      "execution_count": 23,
      "outputs": [
        {
          "output_type": "stream",
          "text": [
            "Enter the height of well=200\n",
            "Enter the meters which are climbed=50\n",
            "Enter slips down=1\n",
            "5\n"
          ],
          "name": "stdout"
        }
      ]
    }
  ]
}