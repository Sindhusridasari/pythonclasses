{
 "cells": [
  {
   "cell_type": "code",
   "execution_count": 1,
   "metadata": {
    "scrolled": true
   },
   "outputs": [
    {
     "name": "stdout",
     "output_type": "stream",
     "text": [
      "length of 1st side4\n",
      "length of 2nd side15\n",
      "length of 3rd side13\n",
      "area =  24.0\n"
     ]
    }
   ],
   "source": [
    "a=int(input(\"length of 1st side\"))\n",
    "b=int(input(\"length of 2nd side\"))\n",
    "c=int(input(\"length of 3rd side\"))\n",
    "s=(a+b+c)/2\n",
    "area=(s*(s-a)*(s-b)*(s-c))**0.5\n",
    "print(\"area = \",area)"
   ]
  },
  {
   "cell_type": "code",
   "execution_count": 6,
   "metadata": {},
   "outputs": [
    {
     "name": "stdout",
     "output_type": "stream",
     "text": [
      "enter stringdad\n",
      "s is a polindrome\n"
     ]
    }
   ],
   "source": [
    "#2\n",
    "s=input(\"enter string\")\n",
    "if s == s[::-1]:\n",
    "    print(\"s is a polindrome\")\n",
    "else:\n",
    "    print(\"s is not a polindrome\")"
   ]
  },
  {
   "cell_type": "code",
   "execution_count": 8,
   "metadata": {},
   "outputs": [
    {
     "name": "stdout",
     "output_type": "stream",
     "text": [
      "enter year2020\n",
      "leap year\n"
     ]
    }
   ],
   "source": [
    "#3\n",
    "y=int(input(\"enter year\"))\n",
    "if y % 4 == 0:\n",
    "    print(\"leap year\")\n",
    "else:\n",
    "    print(\"not\")"
   ]
  },
  {
   "cell_type": "code",
   "execution_count": 9,
   "metadata": {},
   "outputs": [
    {
     "name": "stdout",
     "output_type": "stream",
     "text": [
      "enter string:This program converts space into hyphen\n"
     ]
    },
    {
     "data": {
      "text/plain": [
       "'This-program-converts-space-into-hyphen'"
      ]
     },
     "execution_count": 9,
     "metadata": {},
     "output_type": "execute_result"
    }
   ],
   "source": [
    "#4\n",
    "s=input(\"enter string:\")\n",
    "r=s.replace(\" \",\"-\")\n",
    "r"
   ]
  },
  {
   "cell_type": "code",
   "execution_count": 20,
   "metadata": {},
   "outputs": [
    {
     "name": "stdout",
     "output_type": "stream",
     "text": [
      "enter string :orange,white,red,green,cyan,white,pink,magenta\n",
      "output : cyan,green,magenta,orange,pink,red,white,white\n"
     ]
    }
   ],
   "source": [
    "#5\n",
    "s=input(\"enter string :\").split(\",\")\n",
    "items=[x for x in s]\n",
    "items.sort()\n",
    "print(\"output :\" ,\",\".join(items))"
   ]
  },
  {
   "cell_type": "code",
   "execution_count": 1,
   "metadata": {},
   "outputs": [
    {
     "name": "stdout",
     "output_type": "stream",
     "text": [
      "Enter salary of a person :- 50000\n",
      "no tax\n"
     ]
    }
   ],
   "source": [
    "#6\n",
    "salary=int(input(\"Enter salary of a person :- \"))\n",
    "if salary<=250000:\n",
    "    print(\"no tax\")\n",
    "elif salary>250000 and salary<=500000:\n",
    "    Tax=salary*(5/100)\n",
    "    print(\"the tax is\",Tax)\n",
    "elif salary>500000 and salary<=750000:\n",
    "    Tax=salary*(10/100)\n",
    "    print(\"the tax is\",Tax)\n",
    "elif salary>750000 and salary<=1000000:\n",
    "    Tax=salary*(15/100)\n",
    "    print(\"the tax is\",Tax)\n",
    "elif salary>1000000 and salary<=1250000:\n",
    "    Tax=salary*(20/100)\n",
    "    print(\"the tax is\",Tax)\n",
    "elif salary>1250000 and salary<=1500000:\n",
    "    Tax=salary*(25/100)\n",
    "    print(\"the tax is\",Tax)\n",
    "elif salary>1500000:\n",
    "    Tax=salary*(30/100)\n",
    "    print(\"the tax is\",Tax)"
   ]
  },
  {
   "cell_type": "code",
   "execution_count": 3,
   "metadata": {},
   "outputs": [
    {
     "name": "stdout",
     "output_type": "stream",
     "text": [
      "enter integer :11\n",
      "enter integer :33\n",
      "enter integer :50\n",
      "113350\n"
     ]
    }
   ],
   "source": [
    "#7\n",
    "a=input(\"enter integer :\")\n",
    "b=input(\"enter integer :\")\n",
    "c=input(\"enter integer :\")\n",
    "print(a+b+c)"
   ]
  },
  {
   "cell_type": "code",
   "execution_count": 4,
   "metadata": {},
   "outputs": [
    {
     "name": "stdout",
     "output_type": "stream",
     "text": [
      "Enter days :23\n",
      "Enter hours :5\n",
      "Enter minutes :7\n",
      "Enter seconds :40\n",
      "Total number of seconds =  2005660\n"
     ]
    }
   ],
   "source": [
    "#8\n",
    "D=int(input(\"Enter days :\"))\n",
    "H=int(input(\"Enter hours :\"))\n",
    "M=int(input(\"Enter minutes :\"))\n",
    "S=int(input(\"Enter seconds :\"))\n",
    "secs=D*24*60*60+H*60*60+M*60+S\n",
    "print(\"Total number of seconds = \",secs)\n"
   ]
  },
  {
   "cell_type": "code",
   "execution_count": 6,
   "metadata": {},
   "outputs": [
    {
     "name": "stdout",
     "output_type": "stream",
     "text": [
      "Enter 1st integer:40\n",
      "Enter 2nd integer:70\n",
      "Enter 3rd integer:99\n",
      "max number is: 99\n",
      "min number is: 40\n"
     ]
    }
   ],
   "source": [
    "#9\n",
    "a=int(input(\"Enter 1st integer:\"))\n",
    "b=int(input(\"Enter 2nd integer:\"))\n",
    "c=int(input(\"Enter 3rd integer:\"))\n",
    "print(\"max number is:\",max(a,b,c))\n",
    "print(\"min number is:\",min(a,b,c))"
   ]
  },
  {
   "cell_type": "code",
   "execution_count": 7,
   "metadata": {},
   "outputs": [
    {
     "name": "stdout",
     "output_type": "stream",
     "text": [
      "Enter year YYYY:2020\n",
      "Enter month MM:7\n",
      "Enter date DD:8\n",
      "YYYY-MM-DD : 2020-7-9\n"
     ]
    }
   ],
   "source": [
    "#10\n",
    "year=int(input(\"Enter year YYYY:\"))\n",
    "month=int(input(\"Enter month MM:\"))\n",
    "date=int(input(\"Enter date DD:\"))\n",
    "if date==31 and month==12 :\n",
    "    print (\"YYYY-MM-DD : {}-01-01\".format(year+1))\n",
    "elif (date==31 and (month==1 or 3 or 5 or 7 or 8 or 10)) :\n",
    "    print (\"YYYY-MM-DD : {}-{}-01\".format(year,month+1))\n",
    "elif ( date==30 and (month==4 or 6 or 9 or 11)) :\n",
    "    print(\"YYYY-MM-DD : {}-{}-01\".format(year,month+1))\n",
    "elif ( date==28 and month==2 and year%4==0):\n",
    "    print (\"YYYY-MM-DD : {}-{}-29\".format(year,month))\n",
    "elif (date==28 and month==2):\n",
    "    print (\"YYYY-MM-DD : {}-03-01\".format(year))\n",
    "else :\n",
    "    print (\"YYYY-MM-DD : {}-{}-{}\".format(year,month,date+1))"
   ]
  },
  {
   "cell_type": "code",
   "execution_count": 12,
   "metadata": {},
   "outputs": [
    {
     "data": {
      "text/plain": [
       "121111200"
      ]
     },
     "execution_count": 12,
     "metadata": {},
     "output_type": "execute_result"
    }
   ],
   "source": [
    "#11\n",
    "def product_num(a,b,c,d,e,f,g,h) :\n",
    "    return a*b*c*d*e*f*g*h\n",
    "product_num(45,3,2,89,72,1,10,7)"
   ]
  },
  {
   "cell_type": "code",
   "execution_count": 15,
   "metadata": {},
   "outputs": [
    {
     "data": {
      "text/plain": [
       "(11, 14, 42, 123, 90)"
      ]
     },
     "execution_count": 15,
     "metadata": {},
     "output_type": "execute_result"
    }
   ],
   "source": [
    "#12 \n",
    "def list(a,b,c,d,e,f) : \n",
    "    return a+b,b+c,c+d,d+e,e+f\n",
    "list(5,6,8,34,89,1)\n",
    "\n"
   ]
  },
  {
   "cell_type": "code",
   "execution_count": 16,
   "metadata": {},
   "outputs": [
    {
     "data": {
      "text/plain": [
       "(5, 30, 240, 720, 6480, 6480)"
      ]
     },
     "execution_count": 16,
     "metadata": {},
     "output_type": "execute_result"
    }
   ],
   "source": [
    "#13\n",
    "def list(a,b,c,d,e,f):\n",
    "     return a,a*b,a*b*c,a*b*c*d,a*b*c*d*e,a*b*c*d*e*f\n",
    "list(5,6,8,3,9,1)"
   ]
  },
  {
   "cell_type": "code",
   "execution_count": 17,
   "metadata": {},
   "outputs": [
    {
     "name": "stdout",
     "output_type": "stream",
     "text": [
      "Enter a number :586392\n",
      "[5, 8, 6, 3, 9, 2]\n"
     ]
    }
   ],
   "source": [
    "#14\n",
    "s=int(input(\"Enter a number :\"))\n",
    "digits=[]\n",
    "for i in str(s):\n",
    "      digits. append(int(i)) \n",
    "print (digits)"
   ]
  },
  {
   "cell_type": "code",
   "execution_count": 4,
   "metadata": {},
   "outputs": [
    {
     "name": "stdout",
     "output_type": "stream",
     "text": [
      "Enter a palindrome popcornfoof\n",
      "foof\n"
     ]
    }
   ],
   "source": [
    "#15\n",
    "q=input(\"Enter a palindrome \")\n",
    "str1=[]\n",
    "str2=[]\n",
    "index=0\n",
    "for i in range(0,len(q)-1):\n",
    "    for j in range(i+1,len(q)+1):\n",
    "        if j-i>1:\n",
    "            p=q[i:j]\n",
    "            if (p==p[::-1]):\n",
    "                str1.append(q[i:j])\n",
    "                str2.append(len(q[i:j]))\n",
    "maxi=max(str2)\n",
    "for i in str2:\n",
    "    if i==maxi:\n",
    "        print(str1[index])\n",
    "    else:\n",
    "        index=index+1"
   ]
  },
  {
   "cell_type": "code",
   "execution_count": 2,
   "metadata": {},
   "outputs": [
    {
     "name": "stdout",
     "output_type": "stream",
     "text": [
      "Enter a binary number a: 101011001\n",
      "Enter another binary number b: 10110\n",
      "b is substring of a\n"
     ]
    }
   ],
   "source": [
    "#16\n",
    "def string(list1,list2):\n",
    "    list1len=len(list1)\n",
    "    test=0\n",
    "    for i in range(0,list1len):\n",
    "        if list1[i:i+len(list2)]==list2:\n",
    "            test=1\n",
    "    return test\n",
    "a=input(\"Enter a binary number a: \")\n",
    "b=input(\"Enter another binary number b: \")\n",
    "if string(a,b):\n",
    "    print('b is substring of a')\n",
    "else:\n",
    "    print('b is not a substring of a')"
   ]
  },
  {
   "cell_type": "code",
   "execution_count": null,
   "metadata": {},
   "outputs": [],
   "source": []
  }
 ],
 "metadata": {
  "kernelspec": {
   "display_name": "Python 3",
   "language": "python",
   "name": "python3"
  },
  "language_info": {
   "codemirror_mode": {
    "name": "ipython",
    "version": 3
   },
   "file_extension": ".py",
   "mimetype": "text/x-python",
   "name": "python",
   "nbconvert_exporter": "python",
   "pygments_lexer": "ipython3",
   "version": "3.7.6"
  }
 },
 "nbformat": 4,
 "nbformat_minor": 4
}
